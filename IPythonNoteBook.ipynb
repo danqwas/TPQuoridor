{
  "nbformat": 4,
  "nbformat_minor": 0,
  "metadata": {
    "colab": {
      "name": "TrabajoParcial.ipynb",
      "provenance": []
    },
    "kernelspec": {
      "name": "python3",
      "display_name": "Python 3"
    }
  },
  "cells": [
    {
      "cell_type": "markdown",
      "metadata": {
        "id": "cCSVHID2ZKz1"
      },
      "source": [
        "Importaciones"
      ]
    },
    {
      "cell_type": "code",
      "metadata": {
        "id": "CHl69gV2Y_YI"
      },
      "source": [
        "import pygame\n",
        "from queue import PriorityQueue\n",
        "import time"
      ],
      "execution_count": null,
      "outputs": []
    },
    {
      "cell_type": "markdown",
      "metadata": {
        "id": "8H8Vy2WpZOrC"
      },
      "source": [
        "Establecimiento de colores, seteo de la ventana y colores asignados."
      ]
    },
    {
      "cell_type": "code",
      "metadata": {
        "id": "nG0AN0gRZHA0"
      },
      "source": [
        "# Dimensiones de la  pantalla y titulo\n",
        "DIMENSIONES = 600\n",
        "VENTANA = pygame.display.set_mode((DIMENSIONES, DIMENSIONES))\n",
        "pygame.display.set_caption(\"Trabajo Parcial - Complejidad Algoritimica\")\n",
        "\n",
        "# Colores por defecto (global)\n",
        "filas = 50\n",
        "MARRON = (128, 64, 0)\n",
        "ROJO = (255, 0, 0)\n",
        "VERDE = (0, 255, 0)\n",
        "AZUL = (0, 255, 0)\n",
        "AMARILLO = (255, 255, 0)\n",
        "BLANCO = (255, 255, 255)\n",
        "NEGRO = (0, 0, 0)\n",
        "MORADO = (128, 0, 128)\n",
        "NARANJA = (255, 165, 0)\n",
        "GRIS = (128, 128, 128)\n",
        "TURQUESA = (64, 224, 208)"
      ],
      "execution_count": null,
      "outputs": []
    },
    {
      "cell_type": "code",
      "metadata": {
        "id": "C_E71y15UrXI"
      },
      "source": [
        "class Nodo:\n",
        "    def __init__(self, fila, columna, ancho, total_filas):\n",
        "        self.fila = fila\n",
        "        self.columna = columna\n",
        "        self.x = fila * ancho\n",
        "        self.y = columna * ancho\n",
        "        self.color = MARRON\n",
        "        self.vecinos = []\n",
        "        self.ancho = ancho\n",
        "        self.total_filas = total_filas\n",
        "\n",
        "    def getPosicion(self):\n",
        "        return self.fila, self.columna\n",
        "\n",
        "    def is_closed(self):\n",
        "        return self.color == ROJO\n",
        "\n",
        "    def is_open(self):\n",
        "        return self.color == VERDE\n",
        "\n",
        "    def is_barrier(self):\n",
        "        return self.color == NEGRO\n",
        "\n",
        "    def is_inicio(self):\n",
        "        return self.color == NARANJA\n",
        "\n",
        "    def is_final(self):\n",
        "        return self.color == TURQUESA\n",
        "\n",
        "    def reset(self):\n",
        "        self.color = BLANCO\n",
        "\n",
        "    def setInicio(self):\n",
        "        self.color = NARANJA\n",
        "\n",
        "    def make_closed(self):\n",
        "        self.color = ROJO\n",
        "\n",
        "    def make_open(self):\n",
        "        self.color = VERDE\n",
        "\n",
        "    def make_barrier(self):\n",
        "        self.color = NEGRO\n",
        "\n",
        "    def make_final(self):\n",
        "        self.color = TURQUESA\n",
        "\n",
        "    def construirCamino(self):\n",
        "        self.color = MORADO\n",
        "\n",
        "    def draw(self, ventana):\n",
        "        pygame.draw.rect(ventana, self.color, (self.x, self.y, self.ancho, self.ancho))\n",
        "\n",
        "    def actualizarVecinos(self, mapa):\n",
        "        self.vecinos = []\n",
        "        if self.fila < self.total_filas - 1 and not mapa[self.fila + 1][self.columna].is_barrier():  # ABAJO\n",
        "            self.vecinos.append(mapa[self.fila + 1][self.columna])\n",
        "\n",
        "        if self.fila > 0 and not mapa[self.fila - 1][self.columna].is_barrier():  # ARRIBA\n",
        "            self.vecinos.append(mapa[self.fila - 1][self.columna])\n",
        "\n",
        "        if self.columna < self.total_filas - 1 and not mapa[self.fila][self.columna + 1].is_barrier():  # DERECHA\n",
        "            self.vecinos.append(mapa[self.fila][self.columna + 1])\n",
        "\n",
        "        if self.columna > 0 and not mapa[self.fila][self.columna - 1].is_barrier():  # IZQUIERDA\n",
        "            self.vecinos.append(mapa[self.fila][self.columna - 1])\n",
        "\n",
        "    def __lt__(self, other):\n",
        "        return False\n"
      ],
      "execution_count": null,
      "outputs": []
    },
    {
      "cell_type": "markdown",
      "metadata": {
        "id": "XXX66P6GZkH3"
      },
      "source": [
        "Distancia entre nodos"
      ]
    },
    {
      "cell_type": "code",
      "metadata": {
        "id": "wpkc5w04YSNj"
      },
      "source": [
        "def h(p1, p2):\n",
        "    x1, y1 = p1\n",
        "    x2, y2 = p2\n",
        "    return abs(x1 - x2) + abs(y1 - y2)"
      ],
      "execution_count": null,
      "outputs": []
    },
    {
      "cell_type": "markdown",
      "metadata": {
        "id": "r60_eTerZn_l"
      },
      "source": [
        "Generador de camino para establecer ruta"
      ]
    },
    {
      "cell_type": "code",
      "metadata": {
        "id": "yId75Y2LYgB1"
      },
      "source": [
        "def reconstruirCamino(came_from, current, draw):\n",
        "    while current in came_from:\n",
        "        current = came_from[current]\n",
        "        current.construirCamino()\n",
        "        draw()"
      ],
      "execution_count": null,
      "outputs": []
    },
    {
      "cell_type": "markdown",
      "metadata": {
        "id": "alHsnu4RZsJt"
      },
      "source": [
        "Algoritmo de A* en base al las celdas(nodos) del grafo(mapa)"
      ]
    },
    {
      "cell_type": "code",
      "metadata": {
        "id": "UZDjKiexYjDG"
      },
      "source": [
        "def AStarAlgoritmo(draw, mapa, inicio, final):\n",
        "    count = 0\n",
        "    open_set = PriorityQueue()\n",
        "    open_set.put((0, count, inicio))\n",
        "    came_from = {}\n",
        "    g_score = {celda: float(\"inf\") for fila in mapa for celda in fila}\n",
        "    g_score[inicio] = 0\n",
        "    f_score = {celda: float(\"inf\") for fila in mapa for celda in fila}\n",
        "    f_score[inicio] = h(inicio.getPosicion(), final.getPosicion())\n",
        "\n",
        "    open_set_hash = {inicio}\n",
        "\n",
        "    while not open_set.empty():\n",
        "        for event in pygame.event.get():\n",
        "            if event.type == pygame.QUIT:\n",
        "                pygame.quit()\n",
        "\n",
        "        current = open_set.get()[2]\n",
        "        open_set_hash.remove(current)\n",
        "\n",
        "        if current == final:\n",
        "            reconstruirCamino(came_from, final, draw)\n",
        "            final.make_final()\n",
        "            return True\n",
        "\n",
        "        for neighbor in current.vecinos:\n",
        "            temp_g_score = g_score[current] + 1\n",
        "\n",
        "            if temp_g_score < g_score[neighbor]:\n",
        "                came_from[neighbor] = current\n",
        "                g_score[neighbor] = temp_g_score\n",
        "                f_score[neighbor] = temp_g_score + h(neighbor.getPosicion(), final.getPosicion())\n",
        "                if neighbor not in open_set_hash:\n",
        "                    count += 1\n",
        "                    open_set.put((f_score[neighbor], count, neighbor))\n",
        "                    open_set_hash.add(neighbor)\n",
        "                    neighbor.make_open()\n",
        "\n",
        "        draw()\n",
        "\n",
        "        if current != inicio:\n",
        "            current.make_closed()\n",
        "\n",
        "    return False\n"
      ],
      "execution_count": null,
      "outputs": []
    },
    {
      "cell_type": "markdown",
      "metadata": {
        "id": "Lkg1PlluaRsG"
      },
      "source": [
        "Establece el mapa del juego vació con una cantidad de filas y columnas."
      ]
    },
    {
      "cell_type": "code",
      "metadata": {
        "id": "2s8V2qFXYocp"
      },
      "source": [
        "def mapaJuego(filas, ancho):\n",
        "    mapa = []\n",
        "    brecha = ancho // filas\n",
        "    for i in range(filas):\n",
        "        mapa.append([])\n",
        "        for j in range(filas):\n",
        "            celda = Nodo(i, j, brecha, filas)\n",
        "            mapa[i].append(celda)\n",
        "\n",
        "    return mapa"
      ],
      "execution_count": null,
      "outputs": []
    },
    {
      "cell_type": "markdown",
      "metadata": {
        "id": "iWvKI6WJaLhg"
      },
      "source": [
        "Establece los parametros con pygame para dibujar las celdas"
      ]
    },
    {
      "cell_type": "code",
      "metadata": {
        "id": "BvCkMP9IYrb8"
      },
      "source": [
        "def dibujarMapa(ventana, filas, ancho):\n",
        "    brecha = ancho // filas\n",
        "    for i in range(filas):\n",
        "        pygame.draw.line(ventana, GRIS, (0, i * brecha), (ancho, i * brecha))\n",
        "        for j in range(filas):\n",
        "            pygame.draw.line(ventana, GRIS, (j * brecha, 0), (j * brecha, ancho))"
      ],
      "execution_count": null,
      "outputs": []
    },
    {
      "cell_type": "markdown",
      "metadata": {
        "id": "c-xeiAOUaJWE"
      },
      "source": [
        "Genera dibujo nuevo del mapa al moverse o crear la ruta "
      ]
    },
    {
      "cell_type": "code",
      "metadata": {
        "id": "u7rwjIBHYtcP"
      },
      "source": [
        "def draw(ventana, mapa, filas, ancho):\n",
        "    ventana.fill(BLANCO)\n",
        "\n",
        "    for fila in mapa:\n",
        "        for celda in fila:\n",
        "            celda.draw(ventana)\n",
        "\n",
        "    dibujarMapa(ventana, filas, ancho)\n",
        "    pygame.display.update()\n"
      ],
      "execution_count": null,
      "outputs": []
    },
    {
      "cell_type": "markdown",
      "metadata": {
        "id": "qfDp3HH6Z5o_"
      },
      "source": [
        "Obtener posición mediante un clic"
      ]
    },
    {
      "cell_type": "code",
      "metadata": {
        "id": "9NPWsJZyYvut"
      },
      "source": [
        "def get_clicked_pos(pos, filas, ancho):\n",
        "    brecha = ancho // filas\n",
        "    y, x = pos\n",
        "\n",
        "    fila = y // brecha\n",
        "    columna = x // brecha\n",
        "\n",
        "    return fila, columna"
      ],
      "execution_count": null,
      "outputs": []
    },
    {
      "cell_type": "markdown",
      "metadata": {
        "id": "SRBnz0YpZ2H-"
      },
      "source": [
        "Algoritmo BFS en base al las celdas(nodos) del grafo(mapa)"
      ]
    },
    {
      "cell_type": "code",
      "metadata": {
        "id": "n3ddwt6OY1VS"
      },
      "source": [
        "def BFS(draw, mapa, inicio, final):\n",
        "    count = 0\n",
        "    open_set = PriorityQueue()\n",
        "    open_set.put((0, count, inicio))\n",
        "    came_from = {}\n",
        "    g_score = {celda: float(\"inf\") for fila in mapa for celda in fila}\n",
        "    g_score[inicio] = 0\n",
        "    f_score = {celda: float(\"inf\") for fila in mapa for celda in fila}\n",
        "    f_score[inicio] = h(inicio.getPosicion(), final.getPosicion())\n",
        "\n",
        "    open_set_hash = {inicio}\n",
        "\n",
        "    while not open_set.empty():\n",
        "        for event in pygame.event.get():\n",
        "            if event.type == pygame.QUIT:\n",
        "                pygame.quit()\n",
        "\n",
        "        current = open_set.get()[2]\n",
        "        open_set_hash.remove(current)\n",
        "\n",
        "        if current == final:\n",
        "            reconstruirCamino(came_from, final, draw)\n",
        "            final.make_final()\n",
        "            return True\n",
        "\n",
        "        for neighbor in current.vecinos:\n",
        "            temp_g_score = g_score[current]+3\n",
        "            if temp_g_score < g_score[neighbor]:\n",
        "                came_from[neighbor] = current\n",
        "                g_score[neighbor] = temp_g_score\n",
        "                f_score[neighbor] = temp_g_score + h(neighbor.getPosicion(), final.getPosicion())\n",
        "                if neighbor not in open_set_hash:\n",
        "                    count += 1\n",
        "                    open_set.put((f_score[neighbor], count, neighbor))\n",
        "                    open_set_hash.add(neighbor)\n",
        "                    neighbor.make_open()\n",
        "\n",
        "        draw()\n",
        "\n",
        "        if current != inicio:\n",
        "            current.make_closed()\n",
        "\n",
        "    return False"
      ],
      "execution_count": null,
      "outputs": []
    },
    {
      "cell_type": "markdown",
      "metadata": {
        "id": "WMXYRIsiaaer"
      },
      "source": [
        "Ejecución de todo el código en main, se establece los parametros  y además de la funciones que realizará con pygame.event, se puso los dos algoritmos y tiempos de ejecución para su comparación."
      ]
    },
    {
      "cell_type": "code",
      "metadata": {
        "id": "GIo8EsvBY5I3"
      },
      "source": [
        "def main(ventana, ancho):\n",
        "\n",
        "    mapa = mapaJuego(filas, ancho)\n",
        "\n",
        "    inicio = None\n",
        "    final = None\n",
        "\n",
        "    run = True\n",
        "    while run:\n",
        "        draw(ventana, mapa, filas, ancho)\n",
        "        for event in pygame.event.get():\n",
        "            if event.type == pygame.QUIT:\n",
        "                run = False\n",
        "\n",
        "            if pygame.mouse.get_pressed()[0]:  # LEFT\n",
        "                pos = pygame.mouse.get_pos()\n",
        "                fila, columna = get_clicked_pos(pos, filas, ancho)\n",
        "                celda = mapa[fila][columna]\n",
        "                if not inicio and celda != final:\n",
        "                    inicio = celda\n",
        "                    inicio.setInicio()\n",
        "\n",
        "                elif not final and celda != inicio:\n",
        "                    final = celda\n",
        "                    final.make_final()\n",
        "\n",
        "                elif celda != final and celda != inicio:\n",
        "                    celda.make_barrier()\n",
        "\n",
        "            elif pygame.mouse.get_pressed()[2]:  # RIGHT\n",
        "                pos = pygame.mouse.get_pos()\n",
        "                fila, columna = get_clicked_pos(pos, filas, ancho)\n",
        "                celda = mapa[fila][columna]\n",
        "                celda.reset()\n",
        "                if celda == inicio:\n",
        "                    inicio = None\n",
        "                elif celda == final:\n",
        "                    final = None\n",
        "\n",
        "            if event.type == pygame.KEYDOWN:\n",
        "                if event.key == pygame.K_SPACE and inicio and final:\n",
        "                    for fila in mapa:\n",
        "                        for celda in fila:\n",
        "                            celda.actualizarVecinos(mapa)\n",
        "\n",
        "                    t0 = time.time()\n",
        "                    AStarAlgoritmo(lambda: draw(ventana, mapa, filas, ancho), mapa, inicio, final)\n",
        "                    print(time.time()-t0)\n",
        "                    t1=time.time()\n",
        "                    BFS(lambda: draw(ventana, mapa, filas, ancho), mapa, inicio, final)\n",
        "                    print(time.time() - t1)\n",
        "                if event.key == pygame.K_c:\n",
        "                    inicio = None\n",
        "                    final = None\n",
        "                    mapa = mapaJuego(filas, ancho)\n",
        "\n",
        "    pygame.quit()\n"
      ],
      "execution_count": null,
      "outputs": []
    },
    {
      "cell_type": "markdown",
      "metadata": {
        "id": "4ZVKGwvlasnd"
      },
      "source": [
        "Llamada de la función main(#tamaño de la ventana,#ancho)"
      ]
    },
    {
      "cell_type": "code",
      "metadata": {
        "id": "xk_GoB1aZXdo"
      },
      "source": [
        "main(VENTANA, DIMENSIONES)"
      ],
      "execution_count": null,
      "outputs": []
    },
    {
      "cell_type": "markdown",
      "metadata": {
        "id": "m7enlsB9XOVJ"
      },
      "source": [
        ""
      ]
    }
  ]
}